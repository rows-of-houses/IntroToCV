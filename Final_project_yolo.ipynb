{
  "cells": [
    {
      "cell_type": "code",
      "execution_count": 1,
      "metadata": {
        "colab": {
          "base_uri": "https://localhost:8080/"
        },
        "id": "JvLiU_Ls8N9l",
        "outputId": "6ad27458-03a3-4e0b-a3ae-1a1686a15d8b"
      },
      "outputs": [
        {
          "name": "stdout",
          "output_type": "stream",
          "text": [
            "Requirement already satisfied: ultralytics in c:\\users\\almam\\anaconda3\\lib\\site-packages (8.0.228)\n",
            "Requirement already satisfied: seaborn>=0.11.0 in c:\\users\\almam\\anaconda3\\lib\\site-packages (from ultralytics) (0.11.1)\n",
            "Requirement already satisfied: thop>=0.1.1 in c:\\users\\almam\\anaconda3\\lib\\site-packages (from ultralytics) (0.1.1.post2209072238)\n",
            "Requirement already satisfied: scipy>=1.4.1 in c:\\users\\almam\\anaconda3\\lib\\site-packages (from ultralytics) (1.6.2)\n",
            "Requirement already satisfied: numpy>=1.22.2 in c:\\users\\almam\\anaconda3\\lib\\site-packages (from ultralytics) (1.22.4)\n",
            "Requirement already satisfied: tqdm>=4.64.0 in c:\\users\\almam\\anaconda3\\lib\\site-packages (from ultralytics) (4.66.1)\n",
            "Requirement already satisfied: matplotlib>=3.3.0 in c:\\users\\almam\\anaconda3\\lib\\site-packages (from ultralytics) (3.7.4)\n",
            "Requirement already satisfied: torch>=1.8.0 in c:\\users\\almam\\anaconda3\\lib\\site-packages (from ultralytics) (2.1.1)\n",
            "Requirement already satisfied: pillow>=7.1.2 in c:\\users\\almam\\anaconda3\\lib\\site-packages (from ultralytics) (8.2.0)\n",
            "Requirement already satisfied: pyyaml>=5.3.1 in c:\\users\\almam\\anaconda3\\lib\\site-packages (from ultralytics) (5.4.1)\n",
            "Requirement already satisfied: requests>=2.23.0 in c:\\users\\almam\\anaconda3\\lib\\site-packages (from ultralytics) (2.25.1)\n",
            "Requirement already satisfied: torchvision>=0.9.0 in c:\\users\\almam\\anaconda3\\lib\\site-packages (from ultralytics) (0.16.1)\n",
            "Requirement already satisfied: opencv-python>=4.6.0 in c:\\users\\almam\\anaconda3\\lib\\site-packages (from ultralytics) (4.8.1.78)\n",
            "Requirement already satisfied: pandas>=1.1.4 in c:\\users\\almam\\anaconda3\\lib\\site-packages (from ultralytics) (1.2.4)\n",
            "Requirement already satisfied: psutil in c:\\users\\almam\\anaconda3\\lib\\site-packages (from ultralytics) (5.8.0)\n",
            "Requirement already satisfied: py-cpuinfo in c:\\users\\almam\\anaconda3\\lib\\site-packages (from ultralytics) (9.0.0)\n",
            "Requirement already satisfied: kiwisolver>=1.0.1 in c:\\users\\almam\\anaconda3\\lib\\site-packages (from matplotlib>=3.3.0->ultralytics) (1.3.1)\n",
            "Requirement already satisfied: python-dateutil>=2.7 in c:\\users\\almam\\anaconda3\\lib\\site-packages (from matplotlib>=3.3.0->ultralytics) (2.8.1)\n",
            "Requirement already satisfied: pyparsing>=2.3.1 in c:\\users\\almam\\anaconda3\\lib\\site-packages (from matplotlib>=3.3.0->ultralytics) (2.4.7)\n",
            "Requirement already satisfied: cycler>=0.10 in c:\\users\\almam\\anaconda3\\lib\\site-packages (from matplotlib>=3.3.0->ultralytics) (0.10.0)\n",
            "Requirement already satisfied: fonttools>=4.22.0 in c:\\users\\almam\\anaconda3\\lib\\site-packages (from matplotlib>=3.3.0->ultralytics) (4.44.3)\n",
            "Requirement already satisfied: contourpy>=1.0.1 in c:\\users\\almam\\anaconda3\\lib\\site-packages (from matplotlib>=3.3.0->ultralytics) (1.1.1)\n",
            "Requirement already satisfied: packaging>=20.0 in c:\\users\\almam\\anaconda3\\lib\\site-packages (from matplotlib>=3.3.0->ultralytics) (20.9)\n",
            "Requirement already satisfied: importlib-resources>=3.2.0 in c:\\users\\almam\\anaconda3\\lib\\site-packages (from matplotlib>=3.3.0->ultralytics) (6.1.1)\n",
            "Requirement already satisfied: six in c:\\users\\almam\\anaconda3\\lib\\site-packages (from cycler>=0.10->matplotlib>=3.3.0->ultralytics) (1.15.0)\n",
            "Requirement already satisfied: zipp>=3.1.0 in c:\\users\\almam\\anaconda3\\lib\\site-packages (from importlib-resources>=3.2.0->matplotlib>=3.3.0->ultralytics) (3.4.1)\n",
            "Requirement already satisfied: pytz>=2017.3 in c:\\users\\almam\\anaconda3\\lib\\site-packages (from pandas>=1.1.4->ultralytics) (2021.1)\n",
            "Requirement already satisfied: certifi>=2017.4.17 in c:\\users\\almam\\anaconda3\\lib\\site-packages (from requests>=2.23.0->ultralytics) (2020.12.5)\n",
            "Requirement already satisfied: chardet<5,>=3.0.2 in c:\\users\\almam\\anaconda3\\lib\\site-packages (from requests>=2.23.0->ultralytics) (4.0.0)\n",
            "Requirement already satisfied: urllib3<1.27,>=1.21.1 in c:\\users\\almam\\anaconda3\\lib\\site-packages (from requests>=2.23.0->ultralytics) (1.26.4)\n",
            "Requirement already satisfied: idna<3,>=2.5 in c:\\users\\almam\\anaconda3\\lib\\site-packages (from requests>=2.23.0->ultralytics) (2.10)\n",
            "Requirement already satisfied: filelock in c:\\users\\almam\\anaconda3\\lib\\site-packages (from torch>=1.8.0->ultralytics) (3.0.12)\n",
            "Requirement already satisfied: typing-extensions in c:\\users\\almam\\anaconda3\\lib\\site-packages (from torch>=1.8.0->ultralytics) (4.8.0)\n",
            "Requirement already satisfied: fsspec in c:\\users\\almam\\anaconda3\\lib\\site-packages (from torch>=1.8.0->ultralytics) (0.9.0)\n",
            "Requirement already satisfied: networkx in c:\\users\\almam\\anaconda3\\lib\\site-packages (from torch>=1.8.0->ultralytics) (2.5)\n",
            "Requirement already satisfied: jinja2 in c:\\users\\almam\\anaconda3\\lib\\site-packages (from torch>=1.8.0->ultralytics) (2.11.3)\n",
            "Requirement already satisfied: sympy in c:\\users\\almam\\anaconda3\\lib\\site-packages (from torch>=1.8.0->ultralytics) (1.8)\n",
            "Requirement already satisfied: colorama in c:\\users\\almam\\anaconda3\\lib\\site-packages (from tqdm>=4.64.0->ultralytics) (0.4.4)\n",
            "Requirement already satisfied: MarkupSafe>=0.23 in c:\\users\\almam\\anaconda3\\lib\\site-packages (from jinja2->torch>=1.8.0->ultralytics) (1.1.1)\n",
            "Requirement already satisfied: decorator>=4.3.0 in c:\\users\\almam\\anaconda3\\lib\\site-packages (from networkx->torch>=1.8.0->ultralytics) (5.0.6)\n",
            "Requirement already satisfied: mpmath>=0.19 in c:\\users\\almam\\anaconda3\\lib\\site-packages (from sympy->torch>=1.8.0->ultralytics) (1.2.1)\n"
          ]
        }
      ],
      "source": [
        "!pip install ultralytics"
      ]
    },
    {
      "cell_type": "code",
      "execution_count": 13,
      "metadata": {
        "id": "3dP5FS568Agu"
      },
      "outputs": [],
      "source": [
        "import numpy as np\n",
        "import cv2 as cv\n",
        "import matplotlib.pyplot as plt"
      ]
    },
    {
      "cell_type": "code",
      "execution_count": 14,
      "metadata": {
        "id": "BFQAcJF38Agv"
      },
      "outputs": [],
      "source": [
        "# start reading video from camera. Takes ~1 minute for me.\n",
        "# You can use a built-in webcam of your laptop:\n",
        "# vid = cv.VideoCapture(0)\n",
        "# but it's inconvinient :)\n",
        "vid = cv.VideoCapture(1)"
      ]
    },
    {
      "cell_type": "code",
      "execution_count": 15,
      "metadata": {
        "id": "xkLdRrFY8Agw"
      },
      "outputs": [],
      "source": [
        "# choosing ArUco dictionary\n",
        "dict = cv.aruco.getPredefinedDictionary(cv.aruco.DICT_5X5_100)"
      ]
    },
    {
      "cell_type": "code",
      "execution_count": 16,
      "metadata": {
        "id": "A7SWnSLy8Agx",
        "outputId": "4ceb322e-97c5-4be8-e0b9-407cdf6516ec"
      },
      "outputs": [
        {
          "data": {
            "text/plain": [
              "(-0.5, 1919.5, 1079.5, -0.5)"
            ]
          },
          "execution_count": 16,
          "metadata": {},
          "output_type": "execute_result"
        },
        {
          "data": {
            "image/png": "[encoded data removed]",
            "text/plain": [
              "<Figure size 432x288 with 1 Axes>"
            ]
          },
          "metadata": {
            "needs_background": "light"
          },
          "output_type": "display_data"
        }
      ],
      "source": [
        "# creating board with ArUco markers\n",
        "height, width = 1060, 1900 # it is 1920x1080 - 10 pix margin for each side\n",
        "dict = cv.aruco.getPredefinedDictionary(cv.aruco.DICT_5X5_100)\n",
        "\n",
        "board = cv.aruco.GridBoard((8, 5), 0.04, 0.01, dict)\n",
        "board_image = np.ones((height+20, width+20))*255\n",
        "board_image[10:-10, 10:-10] = board.generateImage((width, height))\n",
        "board_image = (np.dstack([board_image, ] * 3)).astype(\"uint8\")\n",
        "\n",
        "plt.imshow(board_image)\n",
        "plt.axis('off')"
      ]
    },
    {
      "cell_type": "code",
      "execution_count": 17,
      "metadata": {
        "id": "QzRwc5AQ8Agy"
      },
      "outputs": [],
      "source": [
        "# detecting markers on the created board. SHOULD be obtained from the board itself\n",
        "det = cv.aruco.ArucoDetector(dict)\n",
        "# print(len(det.detectMarkers(board_image)[1]))\n",
        "corners, ids, _ = det.detectMarkers(board_image)"
      ]
    },
    {
      "cell_type": "code",
      "execution_count": 24,
      "metadata": {
        "id": "NZ6p-4v38Agy"
      },
      "outputs": [],
      "source": [
        "# showing (almost) full-screen image of the board.\n",
        "# I dunno why but the window in Windows OS is opened via\n",
        "# \"unwrap\" button of window in Taskbar.\n",
        "# Drag the opened image to the desired screen/projector.\n",
        "# To stop showing the image, press \"q\" inside the\n",
        "# window with the pattern\n",
        "\n",
        "window_name = 'projector'\n",
        "cv.namedWindow(window_name, cv.WINDOW_NORMAL)\n",
        "cv.moveWindow(window_name, 1080, 1920)\n",
        "cv.setWindowProperty(window_name,   cv.WND_PROP_TOPMOST ,\n",
        "                        cv.WINDOW_FULLSCREEN)\n",
        "while True:\n",
        "    cv.imshow(window_name, board_image)\n",
        "    if cv.waitKey(1) == ord('q'):\n",
        "        ret, screen_picture = vid.read()\n",
        "        cv.destroyAllWindows()\n",
        "        break"
      ]
    },
    {
      "cell_type": "code",
      "execution_count": 25,
      "metadata": {
        "id": "k-kyqmDv8Agy"
      },
      "outputs": [],
      "source": [
        "# detecting markers on the screen\n",
        "corners_, ids_, _ = det.detectMarkers(screen_picture)\n",
        "ids = np.ravel(ids)\n",
        "ids_ = np.ravel(ids_)\n",
        "dst_points = []\n",
        "src_points = []\n",
        "\n",
        "# matching markers by IDs\n",
        "for i in ids_:\n",
        "    if i in ids:\n",
        "        src_points.append(corners_[np.where(ids_ == i)[0][0]][0][0])\n",
        "        dst_points.append(corners[np.where(ids == i)[0][0]][0][0])\n",
        "\n",
        "dst_points = np.array(dst_points).reshape(-1, 1, 2)\n",
        "src_points = np.array(src_points).reshape(-1, 1, 2)\n",
        "\n",
        "# calculating homography transform\n",
        "M, _ = cv.findHomography(\n",
        "    src_points,\n",
        "    dst_points,\n",
        "    cv.RANSAC,\n",
        "    ransacReprojThreshold=.4,\n",
        "    maxIters=20000,\n",
        "    confidence=0.995\n",
        ")"
      ]
    },
    {
      "cell_type": "code",
      "execution_count": 26,
      "metadata": {
        "id": "oNWs423e8Agy",
        "outputId": "9f8cf304-f21a-42d9-cd73-1344bab13597"
      },
      "outputs": [
        {
          "data": {
            "image/png": "[encoded data removed]",
            "text/plain": [
              "<Figure size 432x288 with 1 Axes>"
            ]
          },
          "metadata": {
            "needs_background": "light"
          },
          "output_type": "display_data"
        }
      ],
      "source": [
        "# check if everything is OK\n",
        "screen_transformed = cv.warpPerspective(\n",
        "    screen_picture, M, (1920, 1080)\n",
        ")\n",
        "plt.imshow(screen_transformed)\n",
        "plt.show()"
      ]
    },
    {
      "cell_type": "code",
      "execution_count": 27,
      "metadata": {
        "colab": {
          "base_uri": "https://localhost:8080/"
        },
        "id": "PXuNAiQzAt8h",
        "outputId": "859bd48e-378a-4aa1-edce-daf9034d9514"
      },
      "outputs": [
        {
          "data": {
            "text/plain": [
              "{0: 'arrow',\n",
              " 1: 'cross',\n",
              " 2: 'ellipse',\n",
              " 3: 'heart',\n",
              " 4: 'line',\n",
              " 5: 'rectangle',\n",
              " 6: 'tick'}"
            ]
          },
          "execution_count": 27,
          "metadata": {},
          "output_type": "execute_result"
        }
      ],
      "source": [
        "from ultralytics import YOLO\n",
        "model = YOLO('best-2.pt')  # load a our model\n",
        "names = model.names\n",
        "names"
      ]
    },
    {
      "cell_type": "code",
      "execution_count": 149,
      "metadata": {},
      "outputs": [
        {
          "name": "stdout",
          "output_type": "stream",
          "text": [
            "\n"
          ]
        },
        {
          "name": "stdout",
          "output_type": "stream",
          "text": [
            "0: 384x640 1 rectangle, 127.6ms\n",
            "Speed: 5.0ms preprocess, 127.6ms inference, 1.0ms postprocess per image at shape (1, 3, 384, 640)\n"
          ]
        }
      ],
      "source": [
        "img = cv.imread(\"./dataset/128.jpg\")\n",
        "results = model(img)"
      ]
    },
    {
      "cell_type": "code",
      "execution_count": 152,
      "metadata": {},
      "outputs": [
        {
          "data": {
            "text/plain": [
              "<matplotlib.image.AxesImage at 0x19bbb12d880>"
            ]
          },
          "execution_count": 152,
          "metadata": {},
          "output_type": "execute_result"
        },
        {
          "data": {
            "image/png": "[encoded data removed]",
            "text/plain": [
              "<Figure size 432x288 with 1 Axes>"
            ]
          },
          "metadata": {
            "needs_background": "light"
          },
          "output_type": "display_data"
        }
      ],
      "source": [
        "plt.imshow(img)"
      ]
    },
    {
      "cell_type": "code",
      "execution_count": 150,
      "metadata": {},
      "outputs": [
        {
          "data": {
            "text/plain": [
              "array([          5], dtype=float32)"
            ]
          },
          "execution_count": 150,
          "metadata": {},
          "output_type": "execute_result"
        }
      ],
      "source": [
        "np.array(results[0].boxes.cls)"
      ]
    },
    {
      "cell_type": "code",
      "execution_count": 151,
      "metadata": {},
      "outputs": [
        {
          "data": {
            "text/plain": [
              "array([ 559,  245, 1255,  674])"
            ]
          },
          "execution_count": 151,
          "metadata": {},
          "output_type": "execute_result"
        }
      ],
      "source": [
        "np.array(results[0].boxes.xyxy[0]).astype('int')"
      ]
    },
    {
      "cell_type": "code",
      "execution_count": 153,
      "metadata": {},
      "outputs": [
        {
          "name": "stderr",
          "output_type": "stream",
          "text": [
            "Clipping input data to the valid range for imshow with RGB data ([0..1] for floats or [0..255] for integers).\n"
          ]
        },
        {
          "name": "stdout",
          "output_type": "stream",
          "text": [
            "((898.8033447265625, 462.4122314453125), (663.7755126953125, 356.6354675292969), 2.876765251159668)\n"
          ]
        },
        {
          "data": {
            "text/plain": [
              "<matplotlib.image.AxesImage at 0x19bbb7ab6d0>"
            ]
          },
          "execution_count": 153,
          "metadata": {},
          "output_type": "execute_result"
        },
        {
          "data": {
            "image/png": "[encoded data removed]",
            "text/plain": [
              "<Figure size 432x288 with 1 Axes>"
            ]
          },
          "metadata": {
            "needs_background": "light"
          },
          "output_type": "display_data"
        }
      ],
      "source": [
        "plt.imshow(recovery_figure(img, \"rectangle\"))"
      ]
    },
    {
      "cell_type": "code",
      "execution_count": 108,
      "metadata": {},
      "outputs": [
        {
          "data": {
            "text/plain": [
              "0"
            ]
          },
          "execution_count": 108,
          "metadata": {},
          "output_type": "execute_result"
        }
      ],
      "source": [
        "np.min(test_img_binary)"
      ]
    },
    {
      "cell_type": "code",
      "execution_count": 28,
      "metadata": {
        "id": "n4dItbeh8Agz"
      },
      "outputs": [],
      "source": [
        "heart = cv.imread(\"./heart.jpg\")\n",
        "\n",
        "def recovery_figure(image, figure_type):\n",
        "\n",
        "    image_binary = -((image[:,:,0] / 255) - 1).astype(\"uint8\")\n",
        "    kernel = np.ones((2,2),np.uint8)\n",
        "    image_binary = cv.dilate(image_binary, kernel, iterations = 1)\n",
        "\n",
        "    base = np.ones((1080, 1920, 3)) * 255\n",
        "    contours,hierarchy = cv.findContours(image_binary, cv.RETR_TREE, cv.CHAIN_APPROX_SIMPLE)\n",
        "    cnt = contours[0]\n",
        "    rect = cv.minAreaRect(cnt)\n",
        "\n",
        "    if figure_type == \"rectangle\":\n",
        "        box = cv.boxPoints(rect) \n",
        "        box = np.int0(box)\n",
        "        cv.drawContours(base,[box],-1, color=(0,0,0), thickness=10)\n",
        "        return base\n",
        "        \n",
        "    if figure_type == \"ellipse\":\n",
        "        (cx, cy),(lx, ly), th = rect\n",
        "        cx = int(cx)\n",
        "        cy = int(cy)\n",
        "        lx = int(lx / 2)\n",
        "        ly = int(ly / 2)\n",
        "        th = int(th)\n",
        "        # cv.ellipse(base, (cx, cy), (lx, ly), th, (0,0,255), 360, thickness=10)\n",
        "        # return base\n",
        "\n",
        "        center_coordinates = (cx, cy) \n",
        "        axesLength = (lx, ly)\n",
        "        angle = th\n",
        "        startAngle = 0\n",
        "        endAngle = 360\n",
        "        color = (0, 0, 0) \n",
        "        thickness = 10\n",
        "        base = cv.ellipse(base, center_coordinates, axesLength, \n",
        "                angle, startAngle, endAngle, color, thickness) \n",
        "        return base\n",
        "    \n",
        "    if figure_type == \"line\":\n",
        "        box = cv.boxPoints(rect) \n",
        "        box = np.int0(box)\n",
        "        if np.sum((box[1]-box[0])**2) > np.sum((box[2]-box[1])**2):\n",
        "            cv.drawContours(base,[box[0:2]],-1, color=(0,0,0), thickness=10)\n",
        "        else:\n",
        "            cv.drawContours(base,[box[1:3]],-1, color=(0,0,0), thickness=10)\n",
        "        return base\n",
        "    \n",
        "    if figure_type == \"cross\":\n",
        "        box = cv.boxPoints(rect) \n",
        "        box = np.int0(box)\n",
        "        box1 = box[::2]\n",
        "        box2 = box[1::2]\n",
        "        cv.drawContours(base,[box1],-1, color=(0,0,0), thickness=10)\n",
        "        cv.drawContours(base,[box2],-1, color=(0,0,0), thickness=10)\n",
        "        return base\n",
        "    \n",
        "    if figure_type == \"heart\":\n",
        "        return heart\n",
        "    \n",
        "    if figure_type == \"arrow\":\n",
        "        # box = cv.boxPoints(rect) \n",
        "        # box = np.int0(box)\n",
        "        # if np.sum((box[1]-box[0])**2) > np.sum((box[2]-box[1])**2):\n",
        "        #     cv.drawContours(base,[np.array([(box[1] + box[2])/2, (box[0]+box[3])/2])],-1, color=(0,0,0), thickness=10)\n",
        "        # else:\n",
        "        #     cv.drawContours(base,[np.array([(box[0] + box[1])/2, (box[2]+box[3])/2])],-1, color=(0,0,0), thickness=10)\n",
        "        return base\n",
        "    \n",
        "    if figure_type == \"tick\":\n",
        "        \n",
        "        return base"
      ]
    },
    {
      "cell_type": "code",
      "execution_count": 11,
      "metadata": {},
      "outputs": [
        {
          "ename": "NameError",
          "evalue": "name 'results' is not defined",
          "output_type": "error",
          "traceback": [
            "\u001b[1;31m---------------------------------------------------------------------------\u001b[0m",
            "\u001b[1;31mNameError\u001b[0m                                 Traceback (most recent call last)",
            "\u001b[1;32m<ipython-input-11-ddeb8fcb77f9>\u001b[0m in \u001b[0;36m<module>\u001b[1;34m\u001b[0m\n\u001b[1;32m----> 1\u001b[1;33m \u001b[0mplt\u001b[0m\u001b[1;33m.\u001b[0m\u001b[0mimshow\u001b[0m\u001b[1;33m(\u001b[0m\u001b[0mresults\u001b[0m\u001b[1;33m[\u001b[0m\u001b[1;36m0\u001b[0m\u001b[1;33m]\u001b[0m\u001b[1;33m.\u001b[0m\u001b[0mplot\u001b[0m\u001b[1;33m(\u001b[0m\u001b[1;33m)\u001b[0m\u001b[1;33m)\u001b[0m\u001b[1;33m\u001b[0m\u001b[1;33m\u001b[0m\u001b[0m\n\u001b[0m",
            "\u001b[1;31mNameError\u001b[0m: name 'results' is not defined"
          ]
        }
      ],
      "source": [
        "plt.imshow(results[0].plot())"
      ]
    },
    {
      "cell_type": "code",
      "execution_count": 29,
      "metadata": {
        "colab": {
          "base_uri": "https://localhost:8080/",
          "height": 242
        },
        "id": "Vxk-jRMw8Agz",
        "outputId": "69459c26-a9f3-4798-e222-4abc17faa1f3"
      },
      "outputs": [
        {
          "name": "stdout",
          "output_type": "stream",
          "text": [
            "\n",
            "0: 384x640 1 line, 293.7ms\n",
            "Speed: 40.5ms preprocess, 293.7ms inference, 32.6ms postprocess per image at shape (1, 3, 384, 640)\n",
            "line\n",
            "\n",
            "0: 384x640 (no detections), 214.5ms\n",
            "Speed: 24.3ms preprocess, 214.5ms inference, 1.0ms postprocess per image at shape (1, 3, 384, 640)\n",
            "\n",
            "0: 384x640 1 line, 205.0ms\n",
            "Speed: 24.3ms preprocess, 205.0ms inference, 0.0ms postprocess per image at shape (1, 3, 384, 640)\n",
            "line\n",
            "\n",
            "0: 384x640 1 rectangle, 187.7ms\n",
            "Speed: 23.3ms preprocess, 187.7ms inference, 0.0ms postprocess per image at shape (1, 3, 384, 640)\n",
            "rectangle\n",
            "\n",
            "0: 384x640 1 heart, 200.2ms\n",
            "Speed: 24.3ms preprocess, 200.2ms inference, 8.2ms postprocess per image at shape (1, 3, 384, 640)\n",
            "heart\n",
            "\n",
            "0: 384x640 (no detections), 218.0ms\n",
            "Speed: 24.2ms preprocess, 218.0ms inference, 0.0ms postprocess per image at shape (1, 3, 384, 640)\n",
            "\n",
            "0: 384x640 1 heart, 197.9ms\n",
            "Speed: 24.2ms preprocess, 197.9ms inference, 0.0ms postprocess per image at shape (1, 3, 384, 640)\n",
            "heart\n",
            "\n",
            "0: 384x640 (no detections), 188.7ms\n",
            "Speed: 24.3ms preprocess, 188.7ms inference, 0.0ms postprocess per image at shape (1, 3, 384, 640)\n",
            "\n",
            "0: 384x640 1 ellipse, 207.7ms\n",
            "Speed: 24.3ms preprocess, 207.7ms inference, 0.0ms postprocess per image at shape (1, 3, 384, 640)\n",
            "ellipse\n",
            "\n",
            "0: 384x640 (no detections), 192.1ms\n",
            "Speed: 24.2ms preprocess, 192.1ms inference, 0.0ms postprocess per image at shape (1, 3, 384, 640)\n",
            "\n",
            "0: 384x640 1 cross, 187.5ms\n",
            "Speed: 24.3ms preprocess, 187.5ms inference, 0.0ms postprocess per image at shape (1, 3, 384, 640)\n",
            "cross\n",
            "\n",
            "0: 384x640 1 line, 191.4ms\n",
            "Speed: 24.3ms preprocess, 191.4ms inference, 0.0ms postprocess per image at shape (1, 3, 384, 640)\n",
            "line\n",
            "\n",
            "0: 384x640 1 line, 207.3ms\n",
            "Speed: 24.4ms preprocess, 207.3ms inference, 0.0ms postprocess per image at shape (1, 3, 384, 640)\n",
            "line\n",
            "\n",
            "0: 384x640 1 line, 206.3ms\n",
            "Speed: 24.3ms preprocess, 206.3ms inference, 0.0ms postprocess per image at shape (1, 3, 384, 640)\n",
            "line\n",
            "\n",
            "0: 384x640 1 line, 201.6ms\n",
            "Speed: 30.7ms preprocess, 201.6ms inference, 0.0ms postprocess per image at shape (1, 3, 384, 640)\n",
            "line\n",
            "\n",
            "0: 384x640 1 arrow, 196.0ms\n",
            "Speed: 24.2ms preprocess, 196.0ms inference, 8.0ms postprocess per image at shape (1, 3, 384, 640)\n",
            "arrow\n",
            "\n",
            "0: 384x640 (no detections), 201.5ms\n",
            "Speed: 24.4ms preprocess, 201.5ms inference, 8.2ms postprocess per image at shape (1, 3, 384, 640)\n",
            "\n",
            "0: 384x640 1 line, 209.9ms\n",
            "Speed: 24.3ms preprocess, 209.9ms inference, 0.0ms postprocess per image at shape (1, 3, 384, 640)\n",
            "line\n",
            "\n",
            "0: 384x640 1 line, 209.8ms\n",
            "Speed: 24.2ms preprocess, 209.8ms inference, 8.0ms postprocess per image at shape (1, 3, 384, 640)\n",
            "line\n",
            "\n",
            "0: 384x640 1 arrow, 197.2ms\n",
            "Speed: 29.3ms preprocess, 197.2ms inference, 0.0ms postprocess per image at shape (1, 3, 384, 640)\n",
            "arrow\n",
            "\n",
            "0: 384x640 1 arrow, 1 rectangle, 208.8ms\n",
            "Speed: 24.3ms preprocess, 208.8ms inference, 2.1ms postprocess per image at shape (1, 3, 384, 640)\n",
            "rectangle\n",
            "\n",
            "0: 384x640 (no detections), 213.8ms\n",
            "Speed: 24.3ms preprocess, 213.8ms inference, 0.0ms postprocess per image at shape (1, 3, 384, 640)\n",
            "\n",
            "0: 384x640 (no detections), 196.7ms\n",
            "Speed: 24.3ms preprocess, 196.7ms inference, 8.0ms postprocess per image at shape (1, 3, 384, 640)\n",
            "\n",
            "0: 384x640 (no detections), 197.1ms\n",
            "Speed: 32.0ms preprocess, 197.1ms inference, 0.0ms postprocess per image at shape (1, 3, 384, 640)\n",
            "\n",
            "0: 384x640 (no detections), 183.1ms\n",
            "Speed: 32.8ms preprocess, 183.1ms inference, 8.0ms postprocess per image at shape (1, 3, 384, 640)\n",
            "\n",
            "0: 384x640 (no detections), 196.9ms\n",
            "Speed: 24.2ms preprocess, 196.9ms inference, 0.0ms postprocess per image at shape (1, 3, 384, 640)\n",
            "\n",
            "0: 384x640 1 arrow, 1 line, 201.7ms\n",
            "Speed: 24.2ms preprocess, 201.7ms inference, 8.0ms postprocess per image at shape (1, 3, 384, 640)\n",
            "line\n",
            "\n",
            "0: 384x640 (no detections), 206.4ms\n",
            "Speed: 22.4ms preprocess, 206.4ms inference, 0.0ms postprocess per image at shape (1, 3, 384, 640)\n",
            "\n",
            "0: 384x640 (no detections), 208.1ms\n",
            "Speed: 21.9ms preprocess, 208.1ms inference, 0.0ms postprocess per image at shape (1, 3, 384, 640)\n",
            "\n",
            "0: 384x640 (no detections), 188.5ms\n",
            "Speed: 24.2ms preprocess, 188.5ms inference, 8.2ms postprocess per image at shape (1, 3, 384, 640)\n",
            "\n",
            "0: 384x640 1 ellipse, 201.0ms\n",
            "Speed: 24.3ms preprocess, 201.0ms inference, 0.0ms postprocess per image at shape (1, 3, 384, 640)\n",
            "ellipse\n",
            "\n",
            "0: 384x640 1 line, 200.1ms\n",
            "Speed: 24.2ms preprocess, 200.1ms inference, 0.0ms postprocess per image at shape (1, 3, 384, 640)\n",
            "line\n",
            "\n",
            "0: 384x640 1 arrow, 193.7ms\n",
            "Speed: 19.8ms preprocess, 193.7ms inference, 0.0ms postprocess per image at shape (1, 3, 384, 640)\n",
            "arrow\n",
            "\n",
            "0: 384x640 1 cross, 1 rectangle, 196.7ms\n",
            "Speed: 32.5ms preprocess, 196.7ms inference, 8.0ms postprocess per image at shape (1, 3, 384, 640)\n",
            "rectangle\n",
            "\n",
            "0: 384x640 1 cross, 207.7ms\n",
            "Speed: 24.5ms preprocess, 207.7ms inference, 0.0ms postprocess per image at shape (1, 3, 384, 640)\n",
            "cross\n",
            "\n",
            "0: 384x640 1 arrow, 177.4ms\n",
            "Speed: 27.0ms preprocess, 177.4ms inference, 8.0ms postprocess per image at shape (1, 3, 384, 640)\n",
            "arrow\n",
            "\n",
            "0: 384x640 1 rectangle, 199.2ms\n",
            "Speed: 24.2ms preprocess, 199.2ms inference, 8.0ms postprocess per image at shape (1, 3, 384, 640)\n",
            "rectangle\n",
            "\n",
            "0: 384x640 (no detections), 209.9ms\n",
            "Speed: 24.7ms preprocess, 209.9ms inference, 0.0ms postprocess per image at shape (1, 3, 384, 640)\n",
            "\n",
            "0: 384x640 1 ellipse, 186.2ms\n",
            "Speed: 24.3ms preprocess, 186.2ms inference, 0.0ms postprocess per image at shape (1, 3, 384, 640)\n",
            "ellipse\n",
            "\n",
            "0: 384x640 1 ellipse, 193.6ms\n",
            "Speed: 24.7ms preprocess, 193.6ms inference, 8.0ms postprocess per image at shape (1, 3, 384, 640)\n",
            "ellipse\n",
            "\n",
            "0: 384x640 1 arrow, 1 line, 199.8ms\n",
            "Speed: 20.8ms preprocess, 199.8ms inference, 8.2ms postprocess per image at shape (1, 3, 384, 640)\n",
            "line\n",
            "\n",
            "0: 384x640 1 rectangle, 161.5ms\n",
            "Speed: 24.3ms preprocess, 161.5ms inference, 0.0ms postprocess per image at shape (1, 3, 384, 640)\n",
            "rectangle\n",
            "\n",
            "0: 384x640 1 rectangle, 189.3ms\n",
            "Speed: 24.6ms preprocess, 189.3ms inference, 0.0ms postprocess per image at shape (1, 3, 384, 640)\n",
            "rectangle\n",
            "\n",
            "0: 384x640 3 hearts, 193.5ms\n",
            "Speed: 24.1ms preprocess, 193.5ms inference, 0.0ms postprocess per image at shape (1, 3, 384, 640)\n",
            "heart\n",
            "\n",
            "0: 384x640 1 line, 1 tick, 194.1ms\n",
            "Speed: 24.4ms preprocess, 194.1ms inference, 8.0ms postprocess per image at shape (1, 3, 384, 640)\n",
            "tick\n",
            "\n",
            "0: 384x640 (no detections), 188.3ms\n",
            "Speed: 30.5ms preprocess, 188.3ms inference, 0.0ms postprocess per image at shape (1, 3, 384, 640)\n",
            "\n",
            "0: 384x640 1 line, 212.8ms\n",
            "Speed: 24.3ms preprocess, 212.8ms inference, 8.0ms postprocess per image at shape (1, 3, 384, 640)\n",
            "line\n",
            "\n",
            "0: 384x640 (no detections), 189.6ms\n",
            "Speed: 24.3ms preprocess, 189.6ms inference, 0.0ms postprocess per image at shape (1, 3, 384, 640)\n",
            "\n",
            "0: 384x640 1 line, 197.1ms\n",
            "Speed: 24.2ms preprocess, 197.1ms inference, 8.0ms postprocess per image at shape (1, 3, 384, 640)\n",
            "line\n",
            "\n",
            "0: 384x640 1 arrow, 164.2ms\n",
            "Speed: 20.8ms preprocess, 164.2ms inference, 8.0ms postprocess per image at shape (1, 3, 384, 640)\n",
            "arrow\n",
            "\n",
            "0: 384x640 1 line, 219.9ms\n",
            "Speed: 21.4ms preprocess, 219.9ms inference, 0.0ms postprocess per image at shape (1, 3, 384, 640)\n",
            "line\n",
            "\n",
            "0: 384x640 1 line, 1 rectangle, 210.4ms\n",
            "Speed: 26.3ms preprocess, 210.4ms inference, 0.0ms postprocess per image at shape (1, 3, 384, 640)\n",
            "line\n",
            "\n",
            "0: 384x640 1 arrow, 208.3ms\n",
            "Speed: 30.0ms preprocess, 208.3ms inference, 0.0ms postprocess per image at shape (1, 3, 384, 640)\n",
            "arrow\n",
            "\n",
            "0: 384x640 1 arrow, 1 cross, 1 heart, 241.4ms\n",
            "Speed: 28.3ms preprocess, 241.4ms inference, 0.0ms postprocess per image at shape (1, 3, 384, 640)\n",
            "heart\n",
            "\n",
            "0: 384x640 1 arrow, 1 line, 207.5ms\n",
            "Speed: 23.6ms preprocess, 207.5ms inference, 15.6ms postprocess per image at shape (1, 3, 384, 640)\n",
            "line\n",
            "\n",
            "0: 384x640 1 heart, 195.5ms\n",
            "Speed: 21.5ms preprocess, 195.5ms inference, 0.0ms postprocess per image at shape (1, 3, 384, 640)\n",
            "heart\n",
            "\n",
            "0: 384x640 2 arrows, 1 line, 200.8ms\n",
            "Speed: 9.8ms preprocess, 200.8ms inference, 0.0ms postprocess per image at shape (1, 3, 384, 640)\n",
            "line\n",
            "\n",
            "0: 384x640 (no detections), 216.0ms\n",
            "Speed: 12.2ms preprocess, 216.0ms inference, 0.0ms postprocess per image at shape (1, 3, 384, 640)\n"
          ]
        },
        {
          "ename": "error",
          "evalue": "OpenCV(4.8.1) D:\\a\\opencv-python\\opencv-python\\opencv\\modules\\core\\src\\arithm.cpp:1726: error: (-215:Assertion failed) ! _src.empty() in function 'cv::inRange'\n",
          "output_type": "error",
          "traceback": [
            "\u001b[1;31m---------------------------------------------------------------------------\u001b[0m",
            "\u001b[1;31merror\u001b[0m                                     Traceback (most recent call last)",
            "\u001b[1;32m<ipython-input-29-88a85e267b87>\u001b[0m in \u001b[0;36m<module>\u001b[1;34m\u001b[0m\n\u001b[0;32m     41\u001b[0m             \u001b[0mret\u001b[0m\u001b[1;33m,\u001b[0m \u001b[0mframe\u001b[0m \u001b[1;33m=\u001b[0m \u001b[0mvid\u001b[0m\u001b[1;33m.\u001b[0m\u001b[0mread\u001b[0m\u001b[1;33m(\u001b[0m\u001b[1;33m)\u001b[0m\u001b[1;33m\u001b[0m\u001b[1;33m\u001b[0m\u001b[0m\n\u001b[0;32m     42\u001b[0m \u001b[1;33m\u001b[0m\u001b[0m\n\u001b[1;32m---> 43\u001b[1;33m             \u001b[0mframe\u001b[0m \u001b[1;33m=\u001b[0m \u001b[0mcv\u001b[0m\u001b[1;33m.\u001b[0m\u001b[0minRange\u001b[0m\u001b[1;33m(\u001b[0m\u001b[0mframe\u001b[0m\u001b[1;33m,\u001b[0m \u001b[1;33m(\u001b[0m\u001b[1;36m240\u001b[0m\u001b[1;33m,\u001b[0m \u001b[1;36m253\u001b[0m\u001b[1;33m,\u001b[0m \u001b[1;36m240\u001b[0m\u001b[1;33m)\u001b[0m\u001b[1;33m,\u001b[0m \u001b[1;33m(\u001b[0m\u001b[1;36m255\u001b[0m\u001b[1;33m,\u001b[0m \u001b[1;36m255\u001b[0m\u001b[1;33m,\u001b[0m \u001b[1;36m255\u001b[0m\u001b[1;33m)\u001b[0m\u001b[1;33m)\u001b[0m\u001b[1;33m\u001b[0m\u001b[1;33m\u001b[0m\u001b[0m\n\u001b[0m\u001b[0;32m     44\u001b[0m             \u001b[0mMoments\u001b[0m \u001b[1;33m=\u001b[0m \u001b[0mcv\u001b[0m\u001b[1;33m.\u001b[0m\u001b[0mmoments\u001b[0m\u001b[1;33m(\u001b[0m\u001b[0mframe\u001b[0m\u001b[1;33m)\u001b[0m\u001b[1;33m\u001b[0m\u001b[1;33m\u001b[0m\u001b[0m\n\u001b[0;32m     45\u001b[0m             \u001b[1;32mif\u001b[0m \u001b[0mMoments\u001b[0m\u001b[1;33m[\u001b[0m\u001b[1;34m\"m00\"\u001b[0m\u001b[1;33m]\u001b[0m \u001b[1;33m>\u001b[0m \u001b[1;36m1.0\u001b[0m\u001b[1;33m:\u001b[0m\u001b[1;33m\u001b[0m\u001b[1;33m\u001b[0m\u001b[0m\n",
            "\u001b[1;31merror\u001b[0m: OpenCV(4.8.1) D:\\a\\opencv-python\\opencv-python\\opencv\\modules\\core\\src\\arithm.cpp:1726: error: (-215:Assertion failed) ! _src.empty() in function 'cv::inRange'\n"
          ]
        }
      ],
      "source": [
        "# drawing itself\n",
        "# drag the opened canvas to the desired screen\n",
        "# to stop showing the image, press \"q\" inside the\n",
        "# window with the drawn image\n",
        "trajectories = []\n",
        "i = 0\n",
        "stop_flag = False\n",
        "object_classes = []\n",
        "\n",
        "while(True):\n",
        "    canvas_full = np.ones((1080, 1920, 3)) * 255\n",
        "\n",
        "    while(True):\n",
        "        canvas_in_progress = canvas_full\n",
        "        trajectory = []\n",
        "        canvas_one_figure = np.ones((1080, 1920, 3)) * 255\n",
        "\n",
        "        # waiting for the first point in the trajectory,\n",
        "        # after the first point we go to the next While\n",
        "        while(True):\n",
        "            ret, frame = vid.read()\n",
        "\n",
        "            frame = cv.inRange(frame, (240, 253, 240), (255, 255, 255))\n",
        "            Moments = cv.moments(frame)\n",
        "\n",
        "            if Moments[\"m00\"] > 1.0:\n",
        "                x = Moments[\"m10\"] / Moments[\"m00\"]\n",
        "                y = Moments[\"m01\"] / Moments[\"m00\"]\n",
        "                # too many casts to int, but it works :)\n",
        "                pts = cv.perspectiveTransform(np.float32([[x,y]]).reshape(-1,1,2), M).astype(int)\n",
        "                trajectory.append((int(pts[0][0][0]), int(pts[0][0][1])))\n",
        "                break\n",
        "\n",
        "            cv.imshow('frame', canvas_one_figure)\n",
        "            if cv.waitKey(1) & 0xFF == ord('q'):\n",
        "                stop_flag = True\n",
        "                break\n",
        "\n",
        "        # drawing lines between detected points\n",
        "        while(True):\n",
        "            ret, frame = vid.read()\n",
        "\n",
        "            frame = cv.inRange(frame, (240, 253, 240), (255, 255, 255))\n",
        "            Moments = cv.moments(frame)\n",
        "            if Moments[\"m00\"] > 1.0:\n",
        "                x = Moments[\"m10\"] / Moments[\"m00\"]\n",
        "                y = Moments[\"m01\"] / Moments[\"m00\"]\n",
        "            else:\n",
        "                trajectories.append(trajectory)\n",
        "                class_detection = model(canvas_one_figure)\n",
        "                if np.size(np.array(class_detection[0].boxes.cls)) != 0:\n",
        "                    c = names[int(class_detection[0].boxes.cls[0])]\n",
        "                    # bbox = np.array(results[0].boxes.xyxy[0]).astype('int')\n",
        "                    print(c)\n",
        "                    figure_recoveried = recovery_figure(canvas_one_figure, c)\n",
        "                    for _ in range(30):\n",
        "                        cv.imshow('frame', figure_recoveried)\n",
        "                        if cv.waitKey(1) & 0xFF == ord('q'):\n",
        "                            stop_flag = True\n",
        "                            break\n",
        "                break\n",
        "            pts = cv.perspectiveTransform(np.float32([[x,y]]).reshape(-1,1,2), M).astype(int)\n",
        "            trajectory.append((int(pts[0][0][0]), int(pts[0][0][1])))\n",
        "            cv.line(canvas_one_figure, trajectory[-2], trajectory[-1], (0, 0, 0), 4)\n",
        "\n",
        "            cv.imshow('frame', canvas_one_figure)\n",
        "            if cv.waitKey(1) & 0xFF == ord('q'):\n",
        "                stop_flag = True\n",
        "                break\n",
        "        if stop_flag:\n",
        "            break\n",
        "\n",
        "        # figure_recoveried = np.ones((1080, 1920, 3)) * 255\n",
        "        # while(True):\n",
        "        #     cv.imshow('frame', figure_recoveried)\n",
        "        #     if cv.waitKey(1) & 0xFF == ord('q'):\n",
        "        #         stop_flag = True\n",
        "        #         break\n",
        "\n",
        "    if stop_flag:\n",
        "            break\n",
        "cv.destroyAllWindows()"
      ]
    },
    {
      "cell_type": "markdown",
      "metadata": {},
      "source": [
        "{0: 'arrow',\n",
        " 1: 'cross',\n",
        " 2: 'ellipse',\n",
        " 3: 'heart',\n",
        " 4: 'line',\n",
        " 5: 'rectangle',\n",
        " 6: 'tick'}"
      ]
    },
    {
      "cell_type": "code",
      "execution_count": 78,
      "metadata": {
        "id": "cvH5AsN28Ag0"
      },
      "outputs": [
        {
          "data": {
            "text/plain": [
              "[1, 2, 3]"
            ]
          },
          "execution_count": 78,
          "metadata": {},
          "output_type": "execute_result"
        }
      ],
      "source": [
        "listochek = (1, 2, 3)\n",
        "[*listochek]"
      ]
    },
    {
      "cell_type": "code",
      "execution_count": null,
      "metadata": {},
      "outputs": [],
      "source": []
    }
  ],
  "metadata": {
    "colab": {
      "provenance": []
    },
    "kernelspec": {
      "display_name": "Python 3",
      "name": "python3"
    },
    "language_info": {
      "codemirror_mode": {
        "name": "ipython",
        "version": 3
      },
      "file_extension": ".py",
      "mimetype": "text/x-python",
      "name": "python",
      "nbconvert_exporter": "python",
      "pygments_lexer": "ipython3",
      "version": "3.8.8"
    }
  },
  "nbformat": 4,
  "nbformat_minor": 0
}
